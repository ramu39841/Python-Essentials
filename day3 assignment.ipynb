{
 "cells": [
  {
   "cell_type": "code",
   "execution_count": null,
   "metadata": {},
   "outputs": [
    {
     "name": "stdout",
     "output_type": "stream",
     "text": [
      "enter altitude: 500\n",
      "turn around and try later\n",
      "enter altitude: 1000\n",
      "plane is safe to land\n"
     ]
    }
   ],
   "source": [
    "for altitude  in range(1000,10000):\n",
    "    altitude=int(input('enter altitude: '))\n",
    "    if altitude==1000:\n",
    "        print('plane is safe to land')\n",
    "    elif altitude>1000 and altitude<5000:\n",
    "        print('bring the plane down to 1000')\n",
    "    else:\n",
    "        print('turn around and try later')"
   ]
  },
  {
   "cell_type": "code",
   "execution_count": null,
   "metadata": {},
   "outputs": [],
   "source": [
    "for num in range(1,201):\n",
    "    num=int(input('enter any number between: '))\n",
    "    if num > 1:\n",
    "        for i in range(2, num):\n",
    "            if(num % i) == 0:\n",
    "                print(num, 'is not a prime number')\n",
    "                break\n",
    "            else:\n",
    "                print(num, 'is prime number'))\n",
    "        else:\n",
    "            print(num,'is not a prime number')"
   ]
  },
  {
   "cell_type": "code",
   "execution_count": null,
   "metadata": {},
   "outputs": [],
   "source": []
  }
 ],
 "metadata": {
  "kernelspec": {
   "display_name": "Python 3",
   "language": "python",
   "name": "python3"
  },
  "language_info": {
   "codemirror_mode": {
    "name": "ipython",
    "version": 3
   },
   "file_extension": ".py",
   "mimetype": "text/x-python",
   "name": "python",
   "nbconvert_exporter": "python",
   "pygments_lexer": "ipython3",
   "version": "3.8.3"
  }
 },
 "nbformat": 4,
 "nbformat_minor": 4
}
